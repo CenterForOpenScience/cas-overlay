{
 "cells": [
  {
   "cell_type": "code",
   "execution_count": 2,
   "metadata": {
    "collapsed": true
   },
   "outputs": [],
   "source": [
    "import requests"
   ]
  },
  {
   "cell_type": "code",
   "execution_count": 38,
   "metadata": {
    "collapsed": false
   },
   "outputs": [
    {
     "name": "stderr",
     "output_type": "stream",
     "text": [
      "/Users/michael/.virtualenvs/ipython/lib/python3.4/site-packages/requests/packages/urllib3/connectionpool.py:769: InsecureRequestWarning: Unverified HTTPS request is being made. Adding certificate verification is strongly advised. See: https://urllib3.readthedocs.org/en/latest/security.html\n",
      "  InsecureRequestWarning)\n"
     ]
    },
    {
     "data": {
      "text/plain": [
       "b'{\"token_type\":\"bearer\",\"expires_in\":3600,\"refresh_token\":\"TGT-1-jcx4JX6naHM9NtcUc5XA2glPHlgcf2EXdP4yx7LrNZqE72UfmM-accounts.osf.io\",\"access_token\":\"ST-7-VAjhbB0BT07IeiOgTe5p-accounts.osf.io\"}'"
      ]
     },
     "execution_count": 38,
     "metadata": {},
     "output_type": "execute_result"
    }
   ],
   "source": [
    "code = 'ST-6-GI7EcYFMRYSQFaFNkkp6-accounts.osf.io'\n",
    "\n",
    "url = 'https://localhost:8443/cas/oauth2/token'\n",
    "\n",
    "data = {\n",
    "    'code': code,\n",
    "    'client_id': 'gJgfkHAtz_FSyUOBgWiki_hyaBsa',\n",
    "    'client_secret': 'esiLUJc2idUh5HaikEK7EAjMDwIa',\n",
    "    'redirect_uri': 'http://localhost:5000/oauth/callback/googledrive/',\n",
    "    'grant_type': 'authorization_code',\n",
    "}\n",
    "\n",
    "resp = requests.post(url, data=data, verify=False)\n",
    "\n",
    "resp.content\n",
    "\n",
    "# example = {\n",
    "#     \"token_type\":\"bearer\",\n",
    "#     \"expires_in\":3597,\n",
    "#     \"refresh_token\":\"TGT-1-a3ZMZfRtMqOWSQA5kNNxvGAOkA1lGKoB0KNz0M3mola09BzU3W-accounts.osf.io\",\n",
    "#     \"access_token\":\"ST-11-EiHKg0IqWvvC1MN0O50A-accounts.osf.io\"\n",
    "# }"
   ]
  },
  {
   "cell_type": "code",
   "execution_count": 39,
   "metadata": {
    "collapsed": false
   },
   "outputs": [
    {
     "data": {
      "text/plain": [
       "{'content-length': '191', 'content-type': 'application/json; charset=UTF-8', 'server': 'Jetty(9.2.10.v20150310)'}"
      ]
     },
     "execution_count": 39,
     "metadata": {},
     "output_type": "execute_result"
    }
   ],
   "source": []
  },
  {
   "cell_type": "raw",
   "metadata": {},
   "source": []
  },
  {
   "cell_type": "code",
   "execution_count": 46,
   "metadata": {
    "collapsed": false
   },
   "outputs": [
    {
     "name": "stderr",
     "output_type": "stream",
     "text": [
      "/Users/michael/.virtualenvs/ipython/lib/python3.4/site-packages/requests/packages/urllib3/connectionpool.py:769: InsecureRequestWarning: Unverified HTTPS request is being made. Adding certificate verification is strongly advised. See: https://urllib3.readthedocs.org/en/latest/security.html\n",
      "  InsecureRequestWarning)\n"
     ]
    },
    {
     "data": {
      "text/plain": [
       "b'{\"token_type\":\"bearer\",\"expires_in\":3600,\"access_token\":\"ST-1-47eRMuQG3WbJydu1MnUD-accounts.osf.io\"}'"
      ]
     },
     "execution_count": 46,
     "metadata": {},
     "output_type": "execute_result"
    }
   ],
   "source": [
    "refresh_token = 'TGT-1-jcx4JX6naHM9NtcUc5XA2glPHlgcf2EXdP4yx7LrNZqE72UfmM-accounts.osf.io'\n",
    "\n",
    "url = 'https://localhost:8443/cas/oauth2/token'\n",
    "\n",
    "data = {\n",
    "    'client_id': 'gJgfkHAtz_FSyUOBgWiki_hyaBsa',\n",
    "    'client_secret': 'esiLUJc2idUh5HaikEK7EAjMDwIa',\n",
    "    'refresh_token': refresh_token,\n",
    "    'grant_type': 'refresh_token',\n",
    "}\n",
    "\n",
    "resp = requests.post(url, data=data, verify=False)\n",
    "\n",
    "resp.content\n",
    "\n",
    "# example = {\n",
    "#     \"token_type\":\"bearer\",\n",
    "#     \"expires_in\":3597,\n",
    "#     \"access_token\":\"ST-11-EiHKg0IqWvvC1MN0O50A-accounts.osf.io\"\n",
    "# }"
   ]
  },
  {
   "cell_type": "code",
   "execution_count": null,
   "metadata": {
    "collapsed": true
   },
   "outputs": [],
   "source": []
  },
  {
   "cell_type": "code",
   "execution_count": 54,
   "metadata": {
    "collapsed": false
   },
   "outputs": [
    {
     "name": "stderr",
     "output_type": "stream",
     "text": [
      "/Users/michael/.virtualenvs/ipython/lib/python3.4/site-packages/requests/packages/urllib3/connectionpool.py:769: InsecureRequestWarning: Unverified HTTPS request is being made. Adding certificate verification is strongly advised. See: https://urllib3.readthedocs.org/en/latest/security.html\n",
      "  InsecureRequestWarning)\n"
     ]
    },
    {
     "data": {
      "text/plain": [
       "400"
      ]
     },
     "execution_count": 54,
     "metadata": {},
     "output_type": "execute_result"
    }
   ],
   "source": [
    "token = 'ST-1-47eRMuQG3WbJydu1MnUD-accounts.osf.io'\n",
    "\n",
    "url = 'https://localhost:8443/cas/oauth2/revoke'\n",
    "\n",
    "params = {\n",
    "    'token': token,\n",
    "}\n",
    "\n",
    "resp = requests.get(url, params=params, verify=False)\n",
    "\n",
    "resp.status_code\n",
    "\n",
    "# 200 = success\n",
    "# 500 = bad request"
   ]
  },
  {
   "cell_type": "code",
   "execution_count": 53,
   "metadata": {
    "collapsed": false
   },
   "outputs": [
    {
     "data": {
      "text/plain": [
       "200"
      ]
     },
     "execution_count": 53,
     "metadata": {},
     "output_type": "execute_result"
    }
   ],
   "source": [
    "resp.status_code"
   ]
  },
  {
   "cell_type": "code",
   "execution_count": null,
   "metadata": {
    "collapsed": true
   },
   "outputs": [],
   "source": []
  }
 ],
 "metadata": {
  "kernelspec": {
   "display_name": "Python 3",
   "language": "python",
   "name": "python3"
  },
  "language_info": {
   "codemirror_mode": {
    "name": "ipython",
    "version": 3
   },
   "file_extension": ".py",
   "mimetype": "text/x-python",
   "name": "python",
   "nbconvert_exporter": "python",
   "pygments_lexer": "ipython3",
   "version": "3.4.2"
  }
 },
 "nbformat": 4,
 "nbformat_minor": 0
}
