{
 "cells": [
  {
   "cell_type": "code",
   "execution_count": 2,
   "metadata": {
    "collapsed": true
   },
   "outputs": [],
   "source": [
    "import requests"
   ]
  },
  {
   "cell_type": "code",
   "execution_count": 12,
   "metadata": {
    "collapsed": false,
    "scrolled": false
   },
   "outputs": [
    {
     "name": "stdout",
     "output_type": "stream",
     "text": [
      "[200] b'{\"token_type\":\"Bearer\",\"expires_in\":3600,\"access_token\":\"AT-2-uMAzzGgXFfNIlQBYvqfd4fffwzHPcwfiLcJVHz0nTzAlVhehBRaNRTETvFP92KWXKUkdCb\"}'\n"
     ]
    },
    {
     "name": "stderr",
     "output_type": "stream",
     "text": [
      "/Users/michael/.virtualenvs/ipython/lib/python3.4/site-packages/requests/packages/urllib3/connectionpool.py:769: InsecureRequestWarning: Unverified HTTPS request is being made. Adding certificate verification is strongly advised. See: https://urllib3.readthedocs.org/en/latest/security.html\n",
      "  InsecureRequestWarning)\n"
     ]
    }
   ],
   "source": [
    "code = 'AC-2-7WKWM2dFL0wcBm3gzN04PWon2SoqTOKlkfUSP6qAqGkHZ3idU4'\n",
    "\n",
    "url = 'https://localhost:8443/oauth2/token'\n",
    "\n",
    "data = {\n",
    "    'code': code,\n",
    "    'client_id': 'gJgfkHAtz_FSyUOBgWiki_hyaBsa',\n",
    "    'client_secret': 'esiLUJc2idUh5HaikEK7EAjMDwIa',\n",
    "    'redirect_uri': 'http://localhost:5000/oauth/callback/googledrive/',\n",
    "    'grant_type': 'authorization_code',\n",
    "}\n",
    "\n",
    "resp = requests.post(url, data=data, verify=False)\n",
    "\n",
    "print('[{}] {}'.format(resp.status_code, resp.content))\n",
    "\n",
    "# example = {\n",
    "#     \"token_type\":\"Bearer\",\n",
    "#     \"expires_in\":3600,\n",
    "#     \"refresh_token\":\"RT-1-TWFngAfiHbS6OCC3STiO2eugtcMFVS64IJZfGgNltbzu0yOKLe\",\n",
    "#     \"access_token\":\"AT-1-gmEZ30hDhj5a6ZcAiPT4CSMG0ezke5YfmuKNKHknIecfhwOKHbUl59AnkxkksaSv7YPxzQ\"\n",
    "# }"
   ]
  },
  {
   "cell_type": "code",
   "execution_count": null,
   "metadata": {
    "collapsed": false
   },
   "outputs": [],
   "source": []
  },
  {
   "cell_type": "raw",
   "metadata": {},
   "source": []
  },
  {
   "cell_type": "code",
   "execution_count": null,
   "metadata": {
    "collapsed": true
   },
   "outputs": [],
   "source": []
  },
  {
   "cell_type": "code",
   "execution_count": null,
   "metadata": {
    "collapsed": true
   },
   "outputs": [],
   "source": []
  },
  {
   "cell_type": "code",
   "execution_count": 29,
   "metadata": {
    "collapsed": true
   },
   "outputs": [],
   "source": []
  },
  {
   "cell_type": "code",
   "execution_count": 33,
   "metadata": {
    "collapsed": false
   },
   "outputs": [
    {
     "name": "stderr",
     "output_type": "stream",
     "text": [
      "/Users/michael/.virtualenvs/ipython/lib/python3.4/site-packages/requests/packages/urllib3/connectionpool.py:769: InsecureRequestWarning: Unverified HTTPS request is being made. Adding certificate verification is strongly advised. See: https://urllib3.readthedocs.org/en/latest/security.html\n",
      "  InsecureRequestWarning)\n"
     ]
    },
    {
     "data": {
      "text/plain": [
       "b'{\"token_type\":\"Bearer\",\"expires_in\":3600,\"access_token\":\"AT-3-4Mt099aMQaiKzdgWDxCQTJgeol6KrRpfb9VZcP0yBWFsOj0WYX2DRy50toIa0UGQEPluVU\"}'"
      ]
     },
     "execution_count": 33,
     "metadata": {},
     "output_type": "execute_result"
    }
   ],
   "source": [
    "refresh_token = 'RT-1-SjLa4ReI4KxcxKzEj1TtIWMTEwcMY26pSy6SftrObikpsbtInb'\n",
    "\n",
    "url = 'https://localhost:8443/oauth2/token'\n",
    "\n",
    "data = {\n",
    "    'client_id': 'gJgfkHAtz_FSyUOBgWiki_hyaBsa',\n",
    "    'client_secret': 'esiLUJc2idUh5HaikEK7EAjMDwIa',\n",
    "    'refresh_token': refresh_token,\n",
    "    'grant_type': 'refresh_token',\n",
    "}\n",
    "\n",
    "resp = requests.post(url, data=data, verify=False)\n",
    "\n",
    "print('[{}] {}'.format(resp.status_code, resp.content))\n",
    "\n",
    "# example = {\n",
    "#     \"token_type\":\"bearer\",\n",
    "#     \"expires_in\":3597,\n",
    "#     \"access_token\":\"ST-11-EiHKg0IqWvvC1MN0O50A-accounts.osf.io\"\n",
    "# }"
   ]
  },
  {
   "cell_type": "code",
   "execution_count": null,
   "metadata": {
    "collapsed": true
   },
   "outputs": [],
   "source": []
  },
  {
   "cell_type": "code",
   "execution_count": null,
   "metadata": {
    "collapsed": true
   },
   "outputs": [],
   "source": []
  },
  {
   "cell_type": "code",
   "execution_count": 94,
   "metadata": {
    "collapsed": false
   },
   "outputs": [
    {
     "name": "stderr",
     "output_type": "stream",
     "text": [
      "/Users/michael/.virtualenvs/ipython/lib/python3.4/site-packages/requests/packages/urllib3/connectionpool.py:769: InsecureRequestWarning: Unverified HTTPS request is being made. Adding certificate verification is strongly advised. See: https://urllib3.readthedocs.org/en/latest/security.html\n",
      "  InsecureRequestWarning)\n"
     ]
    },
    {
     "data": {
      "text/plain": [
       "204"
      ]
     },
     "execution_count": 94,
     "metadata": {},
     "output_type": "execute_result"
    }
   ],
   "source": [
    "# access_token = 'eyJhbGciOiJIUzUxMiJ9.ZXlKaGJHY2lPaUprYVhJaUxDSmxibU1pT2lKQk1USTRRMEpETFVoVE1qVTJJbjAuLjhnVEFMVkNtaG03b2EzSXQzZ20xNEEuOGxUbjZCRlYyQlZpNjJZSVFQM3NlcHlSd2stY0RLWTBZa2VDY3VZS0VIblBPVmhkXzlMOWJaVkVHaDdhb2xWNS1vUm5zZ0FRbEZxZXA3akRYRkdManZDZ0ZXOGFuZVhfWGpER2FtM2ZEa0N5MXRQTS1MNFE1NHRJbE1yNW5tOUw4SEFERU9YTHBOZGYyRXVYNE5OQXdzbno5cU0zNUVZTGNBZ3B0YndJVDlZLml3Zmpubm5kdHdqZDlxNThkV3RIMnc.c-0a7fJMhIjT1Abd0iVCYSh-FYEaP1UOQn6Xo-e1-5yx6WbdM-6ugfwSEdLjFrPGGhz3q_dARZgYhT58fKWAAw'\n",
    "token = 'desired-access-token-id'\n",
    "\n",
    "url = 'https://localhost:8443/oauth2/revoke'\n",
    "\n",
    "headers = {\n",
    "#     'Authorization': 'Bearer {}'.format(access_token),\n",
    "}\n",
    "\n",
    "params = {\n",
    "    'token': token,\n",
    "}\n",
    "\n",
    "resp = requests.post(url, headers=headers, params=params, verify=False)\n",
    "\n",
    "print('[{}] {}'.format(resp.status_code, resp.content))\n",
    "\n",
    "# 200 = success\n",
    "# 500 = bad request"
   ]
  },
  {
   "cell_type": "code",
   "execution_count": 43,
   "metadata": {
    "collapsed": false
   },
   "outputs": [
    {
     "data": {
      "text/plain": [
       "b''"
      ]
     },
     "execution_count": 43,
     "metadata": {},
     "output_type": "execute_result"
    }
   ],
   "source": [
    "resp.content"
   ]
  },
  {
   "cell_type": "code",
   "execution_count": null,
   "metadata": {
    "collapsed": true
   },
   "outputs": [],
   "source": []
  },
  {
   "cell_type": "code",
   "execution_count": 3,
   "metadata": {
    "collapsed": false
   },
   "outputs": [
    {
     "name": "stdout",
     "output_type": "stream",
     "text": [
      "[200] b'{\"id\":\"unique-user-identifier\",\"scope\":[\"user.email\",\"user.profile\"]}'\n"
     ]
    },
    {
     "name": "stderr",
     "output_type": "stream",
     "text": [
      "/Users/michael/.virtualenvs/ipython/lib/python3.4/site-packages/requests/packages/urllib3/connectionpool.py:769: InsecureRequestWarning: Unverified HTTPS request is being made. Adding certificate verification is strongly advised. See: https://urllib3.readthedocs.org/en/latest/security.html\n",
      "  InsecureRequestWarning)\n"
     ]
    }
   ],
   "source": [
    "#access_token = 'eyJhbGciOiJIUzUxMiJ9.ZXlKaGJHY2lPaUprYVhJaUxDSmxibU1pT2lKQk1USTRRMEpETFVoVE1qVTJJbjAuLldiRDAza1Q2ZHZIcEM1SDlaNUVjZXcuMlMwZzF5VjRIZ1pXOU9rZmpzSEU1eDR0TEllYkhFQVdlSVU4OGgtZzEtRWJTc2dTRlRkLUtsa0lGRGhqYV84SjN6MmpKeWRtc3dXTUhSTkxaMF9hYXNnMDNPRnA3azhfZHVYSGMxODJ4SW9mcjBmaVViai11MV82YXEtZmlSNUVqUEJsMW53WUNfTHNPQnZseUZMN1ZRLjlxMF9WT2hPMDA3MmwyemUzQ3hQT3c.Mv2KkKB6VOPs2-7iVpW16tRh5mdN3tft9XNAtGncEtguuCNfyKtHJIMiZ0se2PUsAP0ApH9UJWbd2SJnvmXyjA'\n",
    "# access_token = 'AT-1-adg7yMBUbyO4zSPVqFj2HZzOsTqNtJ5ebgk25y5UbTt4HV5W1EQ45b6PvpDtEABsaXXFBS'\n",
    "access_token = 'desired-access-token-id'\n",
    "# access_token = 'AT-3-RZ7Hx9fQGBrRFLfseY9uXzWYmeASTOzdAD7tYo0Bm4OCSMQwRtLwLAqtMwT3K5A3elDdEJ'\n",
    "\n",
    "url = 'https://localhost:8443/oauth2/profile'\n",
    "\n",
    "headers = {\n",
    "    'Authorization': 'Bearer {}'.format(access_token),\n",
    "}\n",
    "\n",
    "resp = requests.get(url, headers=headers, verify=False)\n",
    "\n",
    "print('[{}] {}'.format(resp.status_code, resp.content))\n",
    "\n",
    "# example = {\n",
    "#     \"id\":\"abc123\",\n",
    "#     \"attributes\":[\n",
    "#         {\"username\": \"michael.haselton@gmail.com\"},\n",
    "#         {\"familyName\":\"Haselton\"},\n",
    "#         {\"givenName\":\"Michael\"}\n",
    "#     ]\n",
    "# }"
   ]
  },
  {
   "cell_type": "code",
   "execution_count": null,
   "metadata": {
    "collapsed": true
   },
   "outputs": [],
   "source": []
  },
  {
   "cell_type": "code",
   "execution_count": null,
   "metadata": {
    "collapsed": false
   },
   "outputs": [],
   "source": []
  },
  {
   "cell_type": "code",
   "execution_count": null,
   "metadata": {
    "collapsed": true
   },
   "outputs": [],
   "source": []
  },
  {
   "cell_type": "code",
   "execution_count": 101,
   "metadata": {
    "collapsed": false
   },
   "outputs": [
    {
     "name": "stderr",
     "output_type": "stream",
     "text": [
      "/Users/michael/.virtualenvs/ipython/lib/python3.4/site-packages/requests/packages/urllib3/connectionpool.py:769: InsecureRequestWarning: Unverified HTTPS request is being made. Adding certificate verification is strongly advised. See: https://urllib3.readthedocs.org/en/latest/security.html\n",
      "  InsecureRequestWarning)\n"
     ]
    },
    {
     "data": {
      "text/plain": [
       "b'{\"data\":[{\"description\":\"OAuth Client Service URL\",\"name\":\"Open Science Framework (Testing)\",\"client_id\":\"gJgfkHAtz_FSyUOBgWiki_hyaBsa\"}]}'"
      ]
     },
     "execution_count": 101,
     "metadata": {},
     "output_type": "execute_result"
    }
   ],
   "source": [
    "access_token = 'eyJhbGciOiJIUzUxMiJ9.ZXlKaGJHY2lPaUprYVhJaUxDSmxibU1pT2lKQk1USTRRMEpETFVoVE1qVTJJbjAuLnI2eUJTa2ZvMWNvbklNSXNwN0E4OHcubVRsbWROZGo0di1ReUNxZXRZWTJSLXVlSzIwYTVRUE4xS0o4MDNkdXEyajhBdEU2eGhwb3AtTFJtUjctY1dxRUdLVk4zRURNcG5ObC1paUZkWkU4NnpFa29aTGhWTDlCTmJyQWZHcUNncVA1NzZxdWxTallncXBCcC1mUjVlLUlXTlRnM1VVU0VEZjJzZ1BXTFpXcVRiYWFXYXNQOG5iNGMtMnhwSUNxWmhvLnRsdVJtZzFtNURHZXp0N1pDZXZQSEE.yWLCH5FAeP9PRn9YNU6imGbMijqmzwJtZdCzHAkT2E0lfhxvjh9-q90rrKxala-mYq7vfuk5wmw21n_1CKQ30g'\n",
    "\n",
    "url = 'https://localhost:8443/oauth2/token'\n",
    "\n",
    "headers = {\n",
    "    'Authorization': 'Bearer {}'.format(access_token),\n",
    "}\n",
    "\n",
    "resp = requests.get(url, headers=headers, verify=False)\n",
    "\n",
    "print('[{}] {}'.format(resp.status_code, resp.content))\n",
    "\n",
    "# example = {\n",
    "#     \"data\": [\n",
    "#         {\n",
    "#             \"client_id\":\"abc123\",\n",
    "#             \"name\": \"OAuth Application Name\",\n",
    "#             \"description\": \"OAuth Application Description\",\n",
    "#         },\n",
    "#         {\n",
    "#             \"client_id\":\"defxyz\",\n",
    "#             \"name\": \"Another Application Name\",\n",
    "#             \"description\": \"Another Application Description\",\n",
    "#         },\n",
    "#     ]\n",
    "# }"
   ]
  },
  {
   "cell_type": "code",
   "execution_count": null,
   "metadata": {
    "collapsed": true
   },
   "outputs": [],
   "source": []
  },
  {
   "cell_type": "code",
   "execution_count": null,
   "metadata": {
    "collapsed": true
   },
   "outputs": [],
   "source": []
  },
  {
   "cell_type": "code",
   "execution_count": 13,
   "metadata": {
    "collapsed": false
   },
   "outputs": [
    {
     "name": "stdout",
     "output_type": "stream",
     "text": [
      "[200] b'{\"id\":\"gJgfkHAtz_FSyUOBgWiki_hyaBsa\",\"users\":1,\"description\":\"OAuth Client Service URL\",\"name\":\"Open Science Framework (Testing)\"}'\n"
     ]
    },
    {
     "name": "stderr",
     "output_type": "stream",
     "text": [
      "/Users/michael/.virtualenvs/ipython/lib/python3.4/site-packages/requests/packages/urllib3/connectionpool.py:769: InsecureRequestWarning: Unverified HTTPS request is being made. Adding certificate verification is strongly advised. See: https://urllib3.readthedocs.org/en/latest/security.html\n",
      "  InsecureRequestWarning)\n"
     ]
    }
   ],
   "source": [
    "url = 'https://localhost:8443/oauth2/metadata'\n",
    "\n",
    "params = {\n",
    "    'client_id': 'gJgfkHAtz_FSyUOBgWiki_hyaBsa',\n",
    "    'client_secret': 'esiLUJc2idUh5HaikEK7EAjMDwIa',\n",
    "}\n",
    "\n",
    "resp = requests.post(url, params=params, verify=False)\n",
    "\n",
    "print('[{}] {}'.format(resp.status_code, resp.content))\n",
    "\n",
    "# example = {\n",
    "#     \"data\": [\n",
    "#         {\n",
    "#             \"client_id\":\"abc123\",\n",
    "#             \"name\": \"OAuth Application Name\",\n",
    "#             \"description\": \"OAuth Application Description\",\n",
    "#         },\n",
    "#         {\n",
    "#             \"client_id\":\"defxyz\",\n",
    "#             \"name\": \"Another Application Name\",\n",
    "#             \"description\": \"Another Application Description\",\n",
    "#         },\n",
    "#     ]\n",
    "# }"
   ]
  },
  {
   "cell_type": "code",
   "execution_count": null,
   "metadata": {
    "collapsed": true
   },
   "outputs": [],
   "source": []
  },
  {
   "cell_type": "code",
   "execution_count": null,
   "metadata": {
    "collapsed": true
   },
   "outputs": [],
   "source": []
  },
  {
   "cell_type": "code",
   "execution_count": 14,
   "metadata": {
    "collapsed": false
   },
   "outputs": [
    {
     "name": "stdout",
     "output_type": "stream",
     "text": [
      "[500] b'\\n\\n<!DOCTYPE html>\\n\\n\\n\\n\\n\\n\\n\\n\\n<html lang=\"en\">\\n<head>\\n  <meta charset=\"UTF-8\" />\\n\\n  \\n  <title>Open Science Framework | Sign In</title>\\n\\n  \\n  <link rel=\"stylesheet\" href=\"/css/cas.css;jsessionid=1xaapinlhum861geayteogayu8\" />\\n  <link rel=\"icon\" href=\"/favicon.ico;jsessionid=1xaapinlhum861geayteogayu8\" type=\"image/x-icon\" />\\n\\n  <!--[if lt IE 9]>\\n    <script src=\"//cdnjs.cloudflare.com/ajax/libs/html5shiv/3.6.1/html5shiv.js\" type=\"text/javascript\"></script>\\n  <![endif]-->\\n</head>\\n<body id=\"cas\">\\n  <div id=\"container\">\\n      <header>\\n        \\n        <a id=\"logo\" href=\"\" title=\"Open Science Framework Sign In\">Open Science Framework | Sign In</a>\\n        \\n      </header>\\n      <div id=\"content\">\\n\\n  <div id=\"msg\" class=\"errors\">\\n    <h2>screen.unavailable.heading</h2>\\n    <p>There was an error trying to complete your request. Please notify your support desk or try again.</p>\\n  </div>\\n\\n\\n\\n    <div class=\"row\" style=\"text-align: center;\">\\n        <hr>\\n        \\n        <a href=\"http://localhost:5000/\">Back to OSF</a>\\n    </div>\\n</div> <!-- END #content -->\\n\\n\\n<footer>\\n    \\n    <div class=\"copyright\">\\n        <div class=\"row\">\\n            <p>Copyright &copy; 2011-2015 <a href=\"http://centerforopenscience.org\">Center for Open Science</a> |\\n                <a href=\"https://github.com/CenterForOpenScience/centerforopenscience.org/blob/master/TERMS_OF_USE.md\">Terms of Use</a> |\\n                <a href=\"https://github.com/CenterForOpenScience/centerforopenscience.org/blob/master/PRIVACY_POLICY.md\">Privacy Policy</a>\\n            </p>\\n        </div>\\n    </div>\\n</footer>\\n\\n</div> <!-- END #container -->\\n<script src=\"https://cdnjs.cloudflare.com/ajax/libs/headjs/1.0.3/head.min.js\"></script>\\n\\n<script type=\"text/javascript\" src=\"/js/cas.js;jsessionid=1xaapinlhum861geayteogayu8\"></script>\\n\\n\\n</body>\\n</html>\\n\\n\\n'\n"
     ]
    },
    {
     "name": "stderr",
     "output_type": "stream",
     "text": [
      "/Users/michael/.virtualenvs/ipython/lib/python3.4/site-packages/requests/packages/urllib3/connectionpool.py:769: InsecureRequestWarning: Unverified HTTPS request is being made. Adding certificate verification is strongly advised. See: https://urllib3.readthedocs.org/en/latest/security.html\n",
      "  InsecureRequestWarning)\n"
     ]
    }
   ],
   "source": [
    "url = 'https://localhost:8443/oauth2/revoke'\n",
    "\n",
    "params = {\n",
    "    'client_id': 'gJgfkHAtz_FSyUOBgWiki_hyaBsa',\n",
    "    'client_secret': 'esiLUJc2idUh5HaikEK7EAjMDwIa',\n",
    "}\n",
    "\n",
    "resp = requests.post(url, params=params, verify=False)\n",
    "\n",
    "print('[{}] {}'.format(resp.status_code, resp.content))\n",
    "\n",
    "# example = {\n",
    "#     \"data\": [\n",
    "#         {\n",
    "#             \"client_id\":\"abc123\",\n",
    "#             \"name\": \"OAuth Application Name\",\n",
    "#             \"description\": \"OAuth Application Description\",\n",
    "#         },\n",
    "#         {\n",
    "#             \"client_id\":\"defxyz\",\n",
    "#             \"name\": \"Another Application Name\",\n",
    "#             \"description\": \"Another Application Description\",\n",
    "#         },\n",
    "#     ]\n",
    "# }"
   ]
  },
  {
   "cell_type": "code",
   "execution_count": null,
   "metadata": {
    "collapsed": true
   },
   "outputs": [],
   "source": []
  }
 ],
 "metadata": {
  "kernelspec": {
   "display_name": "Python 3",
   "language": "python",
   "name": "python3"
  },
  "language_info": {
   "codemirror_mode": {
    "name": "ipython",
    "version": 3
   },
   "file_extension": ".py",
   "mimetype": "text/x-python",
   "name": "python",
   "nbconvert_exporter": "python",
   "pygments_lexer": "ipython3",
   "version": "3.4.2"
  }
 },
 "nbformat": 4,
 "nbformat_minor": 0
}
