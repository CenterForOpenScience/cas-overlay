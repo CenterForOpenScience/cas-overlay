{
 "cells": [
  {
   "cell_type": "code",
   "execution_count": 2,
   "metadata": {
    "collapsed": true
   },
   "outputs": [],
   "source": [
    "import requests"
   ]
  },
  {
   "cell_type": "code",
   "execution_count": 2,
   "metadata": {
    "collapsed": false
   },
   "outputs": [
    {
     "name": "stderr",
     "output_type": "stream",
     "text": [
      "/Users/michael/.virtualenvs/ipython/lib/python3.4/site-packages/requests/packages/urllib3/connectionpool.py:769: InsecureRequestWarning: Unverified HTTPS request is being made. Adding certificate verification is strongly advised. See: https://urllib3.readthedocs.org/en/latest/security.html\n",
      "  InsecureRequestWarning)\n"
     ]
    },
    {
     "data": {
      "text/plain": [
       "b'{\"token_type\":\"bearer\",\"expires_in\":3600,\"refresh_token\":\"eyJhbGciOiJIUzUxMiJ9.ZXlKaGJHY2lPaUprYVhJaUxDSmxibU1pT2lKQk1USTRRMEpETFVoVE1qVTJJbjAuLmVCNTNzTHJKZmQ1QmNRN19VUi16OGcuREJJdC05RUdSNjQxcXNacXZSWDRwakU5Y1BiZkgtU1JsNzRmaXVsVFZlbXhKU20xc0tzOEF4Rjd2SHNMNGJHSFY1b09aZ1dLbU1ka1VsXzRjc2xLTmRUbXRRMjloVkpud2Y4RkJFVXNPeHU3bEUweXdxM2swa0U3U1pBWWwyVnhPY0tiSFlrTFNlZnpmV2E5UGlaeTI5NnJvbW5VbGhzSkk5ejNKOGx4b0JTZDRoXzd6cWZrQ2pGd1MxZS00TS1KLkxkNzBhVkJaTG9hTHFmVTJQQzlheUE.Ea5JPgzsCwCl6R3kQN_larg2_ZvAp6t7RXnlFnrdmM9MjHzDQBSgXfpwro6VaFL01jPIcuOl5mA1JFdYoiOZzA\",\"access_token\":\"eyJhbGciOiJIUzUxMiJ9.ZXlKaGJHY2lPaUprYVhJaUxDSmxibU1pT2lKQk1USTRRMEpETFVoVE1qVTJJbjAuLkhBalRLektXNEx2Y0VLLUo5akZadVEuYWloUG1FTUNxVTlYaHJHR2ktejNvdURVSEliSVFNWlBTMFU2eHBDZ3FLbEpPS3MybThzd1d6UkJ4bXlzejZwaVZLY3BBMmdxWm5Bc1cxLVdwODJma3cuYTA5LU81MlBwUWtWWFZEVnh2OUxzZw.Y4rSWhFvTkbIzdkup6mFZXmIeRf3d7pgRRTWyQONCm4Wb5zre9KgOVDAeCnMOjtJQVS425Hv1ElKPPNGq_VarA\"}'"
      ]
     },
     "execution_count": 2,
     "metadata": {},
     "output_type": "execute_result"
    }
   ],
   "source": [
    "code = ''\n",
    "\n",
    "url = 'https://localhost:8443/oauth2/token'\n",
    "\n",
    "data = {\n",
    "    'code': code,\n",
    "    'client_id': 'gJgfkHAtz_FSyUOBgWiki_hyaBsa',\n",
    "    'client_secret': 'esiLUJc2idUh5HaikEK7EAjMDwIa',\n",
    "    'redirect_uri': 'http://localhost:5000/oauth/callback/googledrive/',\n",
    "    'grant_type': 'authorization_code',\n",
    "}\n",
    "\n",
    "resp = requests.post(url, data=data, verify=False)\n",
    "\n",
    "resp.content\n",
    "\n",
    "# example = {\n",
    "#     \"token_type\":\"bearer\",\n",
    "#     \"expires_in\":3597,\n",
    "#     \"refresh_token\":\"TGT-1-a3ZMZfRtMqOWSQA5kNNxvGAOkA1lGKoB0KNz0M3mola09BzU3W-accounts.osf.io\",\n",
    "#     \"access_token\":\"ST-11-EiHKg0IqWvvC1MN0O50A-accounts.osf.io\"\n",
    "# }"
   ]
  },
  {
   "cell_type": "code",
   "execution_count": null,
   "metadata": {
    "collapsed": false
   },
   "outputs": [],
   "source": []
  },
  {
   "cell_type": "raw",
   "metadata": {},
   "source": []
  },
  {
   "cell_type": "code",
   "execution_count": null,
   "metadata": {
    "collapsed": true
   },
   "outputs": [],
   "source": []
  },
  {
   "cell_type": "code",
   "execution_count": null,
   "metadata": {
    "collapsed": true
   },
   "outputs": [],
   "source": []
  },
  {
   "cell_type": "code",
   "execution_count": null,
   "metadata": {
    "collapsed": true
   },
   "outputs": [],
   "source": []
  },
  {
   "cell_type": "code",
   "execution_count": 26,
   "metadata": {
    "collapsed": false
   },
   "outputs": [
    {
     "name": "stderr",
     "output_type": "stream",
     "text": [
      "/Users/michael/.virtualenvs/ipython/lib/python3.4/site-packages/requests/packages/urllib3/connectionpool.py:769: InsecureRequestWarning: Unverified HTTPS request is being made. Adding certificate verification is strongly advised. See: https://urllib3.readthedocs.org/en/latest/security.html\n",
      "  InsecureRequestWarning)\n"
     ]
    },
    {
     "data": {
      "text/plain": [
       "b'{\"token_type\":\"bearer\",\"expires_in\":3600,\"access_token\":\"eyJhbGciOiJIUzUxMiJ9.ZXlKaGJHY2lPaUprYVhJaUxDSmxibU1pT2lKQk1USTRRMEpETFVoVE1qVTJJbjAuLk1IN3djdGxuTXJ2NzdUMUxacFZOR2cuUF9GalNpc28tTk5RUmI2eGFzN0IyVldaQ0tWd3ZpR1hrRlpHakExM3JFazN3VGt5djQ3anhYNnVmR0NvdEVMYi5HYjd1bGd2QzYyY3JFdDRUZksxanBn.LQCkV7pBmnS480yVL08DrOyWmYBwahU4fDbRsTdv1dAArnBNoUHhXpcz5_aGVaz2d-n2HcsGA1rZJR-S-_AO7g\"}'"
      ]
     },
     "execution_count": 26,
     "metadata": {},
     "output_type": "execute_result"
    }
   ],
   "source": [
    "refresh_token = 'eyJhbGciOiJIUzUxMiJ9.ZXlKaGJHY2lPaUprYVhJaUxDSmxibU1pT2lKQk1USTRRMEpETFVoVE1qVTJJbjAuLkdUQVJqUDVkZ1M3a2xGNTRUdVAzT0EudFI1RlRtbWhnS1JWbzl6S294LUE5amFYWU5WMHNyX0JUQ1FHSjFXdXowVlROUHNpMkNRUTVXbU5qZ1R2VGE1bUJvLXM2aUs1X3oxbTdzLTM4Sk9LNmNpVWFNal9zUjNYWUFfTGdzckZkM28uQXVKanpNbUVIYW42S0UxcDF1Wm42QQ.7fMWQAFrrHREQ7l9hGd_dqCjoijt_Y0RxL5w3MmfCQetp26Y3hT94ziZK90wLIXLUcz_ckl6PRlPvZUkV_EDAg'\n",
    "\n",
    "url = 'https://localhost:8443/oauth2/token'\n",
    "\n",
    "data = {\n",
    "    'client_id': 'gJgfkHAtz_FSyUOBgWiki_hyaBsa',\n",
    "    'client_secret': 'esiLUJc2idUh5HaikEK7EAjMDwIa',\n",
    "    'refresh_token': refresh_token,\n",
    "    'grant_type': 'refresh_token',\n",
    "}\n",
    "\n",
    "resp = requests.post(url, data=data, verify=False)\n",
    "\n",
    "resp.content\n",
    "\n",
    "# example = {\n",
    "#     \"token_type\":\"bearer\",\n",
    "#     \"expires_in\":3597,\n",
    "#     \"access_token\":\"ST-11-EiHKg0IqWvvC1MN0O50A-accounts.osf.io\"\n",
    "# }"
   ]
  },
  {
   "cell_type": "code",
   "execution_count": null,
   "metadata": {
    "collapsed": true
   },
   "outputs": [],
   "source": []
  },
  {
   "cell_type": "code",
   "execution_count": null,
   "metadata": {
    "collapsed": true
   },
   "outputs": [],
   "source": []
  },
  {
   "cell_type": "code",
   "execution_count": 46,
   "metadata": {
    "collapsed": false
   },
   "outputs": [
    {
     "name": "stderr",
     "output_type": "stream",
     "text": [
      "/Users/michael/.virtualenvs/ipython/lib/python3.4/site-packages/requests/packages/urllib3/connectionpool.py:769: InsecureRequestWarning: Unverified HTTPS request is being made. Adding certificate verification is strongly advised. See: https://urllib3.readthedocs.org/en/latest/security.html\n",
      "  InsecureRequestWarning)\n"
     ]
    },
    {
     "data": {
      "text/plain": [
       "400"
      ]
     },
     "execution_count": 46,
     "metadata": {},
     "output_type": "execute_result"
    }
   ],
   "source": [
    "access_token = 'eyJhbGciOiJIUzUxMiJ9.ZXlKaGJHY2lPaUprYVhJaUxDSmxibU1pT2lKQk1USTRRMEpETFVoVE1qVTJJbjAuLjhnVEFMVkNtaG03b2EzSXQzZ20xNEEuOGxUbjZCRlYyQlZpNjJZSVFQM3NlcHlSd2stY0RLWTBZa2VDY3VZS0VIblBPVmhkXzlMOWJaVkVHaDdhb2xWNS1vUm5zZ0FRbEZxZXA3akRYRkdManZDZ0ZXOGFuZVhfWGpER2FtM2ZEa0N5MXRQTS1MNFE1NHRJbE1yNW5tOUw4SEFERU9YTHBOZGYyRXVYNE5OQXdzbno5cU0zNUVZTGNBZ3B0YndJVDlZLml3Zmpubm5kdHdqZDlxNThkV3RIMnc.c-0a7fJMhIjT1Abd0iVCYSh-FYEaP1UOQn6Xo-e1-5yx6WbdM-6ugfwSEdLjFrPGGhz3q_dARZgYhT58fKWAAw'\n",
    "token = 'eyJhbGciOiJIUzUxMiJ9.ZXlKaGJHY2lPaUprYVhJaUxDSmxibU1pT2lKQk1USTRRMEpETFVoVE1qVTJJbjAuLjhnVEFMVkNtaG03b2EzSXQzZ20xNEEuOGxUbjZCRlYyQlZpNjJZSVFQM3NlcHlSd2stY0RLWTBZa2VDY3VZS0VIblBPVmhkXzlMOWJaVkVHaDdhb2xWNS1vUm5zZ0FRbEZxZXA3akRYRkdManZDZ0ZXOGFuZVhfWGpER2FtM2ZEa0N5MXRQTS1MNFE1NHRJbE1yNW5tOUw4SEFERU9YTHBOZGYyRXVYNE5OQXdzbno5cU0zNUVZTGNBZ3B0YndJVDlZLml3Zmpubm5kdHdqZDlxNThkV3RIMnc.c-0a7fJMhIjT1Abd0iVCYSh-FYEaP1UOQn6Xo-e1-5yx6WbdM-6ugfwSEdLjFrPGGhz3q_dARZgYhT58fKWAAw'\n",
    "\n",
    "url = 'https://localhost:8443/oauth2/revoke'\n",
    "\n",
    "headers = {\n",
    "    'Authorization': 'Bearer {}'.format(access_token),\n",
    "}\n",
    "\n",
    "params = {\n",
    "    'token': token,\n",
    "}\n",
    "\n",
    "resp = requests.post(url, headers=headers, params=params, verify=False)\n",
    "\n",
    "resp.status_code\n",
    "\n",
    "# 200 = success\n",
    "# 500 = bad request"
   ]
  },
  {
   "cell_type": "code",
   "execution_count": 43,
   "metadata": {
    "collapsed": false
   },
   "outputs": [
    {
     "data": {
      "text/plain": [
       "b''"
      ]
     },
     "execution_count": 43,
     "metadata": {},
     "output_type": "execute_result"
    }
   ],
   "source": [
    "resp.content"
   ]
  },
  {
   "cell_type": "code",
   "execution_count": null,
   "metadata": {
    "collapsed": true
   },
   "outputs": [],
   "source": []
  },
  {
   "cell_type": "code",
   "execution_count": 41,
   "metadata": {
    "collapsed": false
   },
   "outputs": [
    {
     "name": "stderr",
     "output_type": "stream",
     "text": [
      "/Users/michael/.virtualenvs/ipython/lib/python3.4/site-packages/requests/packages/urllib3/connectionpool.py:769: InsecureRequestWarning: Unverified HTTPS request is being made. Adding certificate verification is strongly advised. See: https://urllib3.readthedocs.org/en/latest/security.html\n",
      "  InsecureRequestWarning)\n"
     ]
    },
    {
     "data": {
      "text/plain": [
       "b'<html>\\n<head>\\n<meta http-equiv=\"Content-Type\" content=\"text/html; charset=UTF-8\"/>\\n<title>Error 400 invalid_token</title>\\n</head>\\n<body><h2>HTTP ERROR 400</h2>\\n<p>Problem accessing /oauth2/profile. Reason:\\n<pre>    invalid_token</pre></p><hr><i><small>Powered by Jetty://</small></i><hr/>\\n\\n</body>\\n</html>\\n'"
      ]
     },
     "execution_count": 41,
     "metadata": {},
     "output_type": "execute_result"
    }
   ],
   "source": [
    "access_token = 'eyJhbGciOiJIUzUxMiJ9.ZXlKaGJHY2lPaUprYVhJaUxDSmxibU1pT2lKQk1USTRRMEpETFVoVE1qVTJJbjAuLjhnVEFMVkNtaG03b2EzSXQzZ20xNEEuOGxUbjZCRlYyQlZpNjJZSVFQM3NlcHlSd2stY0RLWTBZa2VDY3VZS0VIblBPVmhkXzlMOWJaVkVHaDdhb2xWNS1vUm5zZ0FRbEZxZXA3akRYRkdManZDZ0ZXOGFuZVhfWGpER2FtM2ZEa0N5MXRQTS1MNFE1NHRJbE1yNW5tOUw4SEFERU9YTHBOZGYyRXVYNE5OQXdzbno5cU0zNUVZTGNBZ3B0YndJVDlZLml3Zmpubm5kdHdqZDlxNThkV3RIMnc.c-0a7fJMhIjT1Abd0iVCYSh-FYEaP1UOQn6Xo-e1-5yx6WbdM-6ugfwSEdLjFrPGGhz3q_dARZgYhT58fKWAAw'\n",
    "\n",
    "url = 'https://localhost:8443/oauth2/profile'\n",
    "\n",
    "headers = {\n",
    "    'Authorization': 'Bearer {}'.format(access_token),\n",
    "}\n",
    "\n",
    "resp = requests.get(url, headers=headers, verify=False)\n",
    "\n",
    "resp.content\n",
    "\n",
    "# example = {\n",
    "#     \"id\":\"abc123\",\n",
    "#     \"attributes\":[\n",
    "#         {\"username\": \"michael.haselton@gmail.com\"},\n",
    "#         {\"familyName\":\"Haselton\"},\n",
    "#         {\"givenName\":\"Michael\"}\n",
    "#     ]\n",
    "# }"
   ]
  },
  {
   "cell_type": "code",
   "execution_count": null,
   "metadata": {
    "collapsed": true
   },
   "outputs": [],
   "source": []
  },
  {
   "cell_type": "code",
   "execution_count": null,
   "metadata": {
    "collapsed": false
   },
   "outputs": [],
   "source": []
  }
 ],
 "metadata": {
  "kernelspec": {
   "display_name": "Python 3",
   "language": "python",
   "name": "python3"
  },
  "language_info": {
   "codemirror_mode": {
    "name": "ipython",
    "version": 3
   },
   "file_extension": ".py",
   "mimetype": "text/x-python",
   "name": "python",
   "nbconvert_exporter": "python",
   "pygments_lexer": "ipython3",
   "version": "3.4.2"
  }
 },
 "nbformat": 4,
 "nbformat_minor": 0
}
