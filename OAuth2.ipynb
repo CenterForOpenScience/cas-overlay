{
 "cells": [
  {
   "cell_type": "code",
   "execution_count": 2,
   "metadata": {
    "collapsed": true
   },
   "outputs": [],
   "source": [
    "import requests"
   ]
  },
  {
   "cell_type": "code",
   "execution_count": 10,
   "metadata": {
    "collapsed": false
   },
   "outputs": [
    {
     "name": "stderr",
     "output_type": "stream",
     "text": [
      "/Users/michael/.virtualenvs/ipython/lib/python3.4/site-packages/requests/packages/urllib3/connectionpool.py:769: InsecureRequestWarning: Unverified HTTPS request is being made. Adding certificate verification is strongly advised. See: https://urllib3.readthedocs.org/en/latest/security.html\n",
      "  InsecureRequestWarning)\n"
     ]
    },
    {
     "data": {
      "text/plain": [
       "b'{\"token_type\":\"bearer\",\"expires_in\":3600,\"refresh_token\":\"eyJhbGciOiJIUzUxMiJ9.ZXlKaGJHY2lPaUprYVhJaUxDSmxibU1pT2lKQk1USTRRMEpETFVoVE1qVTJJbjAuLk0tNlI3NU9xbFQyNlk2NUVyQml5QUEuREtVbjlUUndSdWh0TjMydmc4SVVvNXFSMHhIRFU0UHlaMEVhQnN5eF8tNFlkdk14N2d6d2dwSndqZF9LeEFWcEYzTEpYek5ub1pKNG53aFhVMi1xejQxUnplSm5Cam9nc1NBQTlIOUxHVmsuN2ZjdGxhd01FZWhYMkxubE4zZFZIQQ.7TVCBLZCTISEy9h6bi0MwVrZ7j11e61DRHcjlx1G6yXyJp_TxSdMWWiJIQE6fqSoYXo_eN2QWRZerz0r8mI0ew\",\"access_token\":\"eyJhbGciOiJIUzUxMiJ9.ZXlKaGJHY2lPaUprYVhJaUxDSmxibU1pT2lKQk1USTRRMEpETFVoVE1qVTJJbjAuLkltREJ0czYydHdLd25FNEMxSWNHdGcuVnNISHpEZXpQNVRXWFdDenFBNkZ2ak9WT1duLWdSaXJBcV9NZUNYMnNNeGdLTE1NNno2Z3BLMVFwUXNnRmktVy5QUzE3cmhUNURwcllGOFczOUZwN09R.psMMb7Plkr1yviHpyEAaPIFBEEj5cwpPHBCwnvzkfOm6qy91Rj3mYFqz9uhYw0WvTwc3nJPOXtlElVD9mZlMzw\"}'"
      ]
     },
     "execution_count": 10,
     "metadata": {},
     "output_type": "execute_result"
    }
   ],
   "source": [
    "code = 'eyJhbGciOiJIUzUxMiJ9.ZXlKaGJHY2lPaUprYVhJaUxDSmxibU1pT2lKQk1USTRRMEpETFVoVE1qVTJJbjAuLmJnSHUtSkVra18zOEFLdkNiQTN2ZlEuVHJKNzk1bDgtMF9td0F6Sk9XSkIyMTRNaWR1Tm1NaHVmN3BIR3NuUV9UNFYxM0xfSjNaLXA3VDdudTdXdWMwZS5HcmN4c2Q5cHM3Z1luQnpDX2IwYmZ3.fx_lCScCEahdNN_Ph5pYeKJWuR0KCsn3KlTCG_BgYsMrLurjjJ__6i6IEU9eX5ejkD1KcINcDiKs6R9PfsMqpg'\n",
    "\n",
    "url = 'https://localhost:8443/cas/oauth2/token'\n",
    "\n",
    "data = {\n",
    "    'code': code,\n",
    "    'client_id': 'gJgfkHAtz_FSyUOBgWiki_hyaBsa',\n",
    "    'client_secret': 'esiLUJc2idUh5HaikEK7EAjMDwIa',\n",
    "    'redirect_uri': 'http://localhost:5000/oauth/callback/googledrive/',\n",
    "    'grant_type': 'authorization_code',\n",
    "}\n",
    "\n",
    "resp = requests.post(url, data=data, verify=False)\n",
    "\n",
    "resp.content\n",
    "\n",
    "# example = {\n",
    "#     \"token_type\":\"bearer\",\n",
    "#     \"expires_in\":3597,\n",
    "#     \"refresh_token\":\"TGT-1-a3ZMZfRtMqOWSQA5kNNxvGAOkA1lGKoB0KNz0M3mola09BzU3W-accounts.osf.io\",\n",
    "#     \"access_token\":\"ST-11-EiHKg0IqWvvC1MN0O50A-accounts.osf.io\"\n",
    "# }"
   ]
  },
  {
   "cell_type": "code",
   "execution_count": null,
   "metadata": {
    "collapsed": false
   },
   "outputs": [],
   "source": []
  },
  {
   "cell_type": "raw",
   "metadata": {},
   "source": []
  },
  {
   "cell_type": "code",
   "execution_count": 13,
   "metadata": {
    "collapsed": false
   },
   "outputs": [
    {
     "name": "stderr",
     "output_type": "stream",
     "text": [
      "/Users/michael/.virtualenvs/ipython/lib/python3.4/site-packages/requests/packages/urllib3/connectionpool.py:769: InsecureRequestWarning: Unverified HTTPS request is being made. Adding certificate verification is strongly advised. See: https://urllib3.readthedocs.org/en/latest/security.html\n",
      "  InsecureRequestWarning)\n"
     ]
    },
    {
     "data": {
      "text/plain": [
       "b'{\"token_type\":\"bearer\",\"expires_in\":3600,\"access_token\":\"eyJhbGciOiJIUzUxMiJ9.ZXlKaGJHY2lPaUprYVhJaUxDSmxibU1pT2lKQk1USTRRMEpETFVoVE1qVTJJbjAuLlZZTktvWVY5RlE5VHdzNTJGUWpSZEEuVmktUWZVUkswdkd4WkxmdHVfNkp1N2FxekRfU3oxRTBCa2pKVllmN1NtLWdLNlNNMVo0R0ZvMkxKNW4xLTJsdy4tZXpsNWN4c3YwX2VYSkV1S21ETm93.UafDQyWUmMgz6kMmYFdOsydt0GxRzRcx75RWy0t4BppvfzEASjcM7P1uUBf7GBwzumE3V7TDJqdpN4YGiZLfpA\"}'"
      ]
     },
     "execution_count": 13,
     "metadata": {},
     "output_type": "execute_result"
    }
   ],
   "source": [
    "refresh_token = 'eyJhbGciOiJIUzUxMiJ9.ZXlKaGJHY2lPaUprYVhJaUxDSmxibU1pT2lKQk1USTRRMEpETFVoVE1qVTJJbjAuLk0tNlI3NU9xbFQyNlk2NUVyQml5QUEuREtVbjlUUndSdWh0TjMydmc4SVVvNXFSMHhIRFU0UHlaMEVhQnN5eF8tNFlkdk14N2d6d2dwSndqZF9LeEFWcEYzTEpYek5ub1pKNG53aFhVMi1xejQxUnplSm5Cam9nc1NBQTlIOUxHVmsuN2ZjdGxhd01FZWhYMkxubE4zZFZIQQ.7TVCBLZCTISEy9h6bi0MwVrZ7j11e61DRHcjlx1G6yXyJp_TxSdMWWiJIQE6fqSoYXo_eN2QWRZerz0r8mI0ew'\n",
    "\n",
    "url = 'https://localhost:8443/cas/oauth2/token'\n",
    "\n",
    "data = {\n",
    "    'client_id': 'gJgfkHAtz_FSyUOBgWiki_hyaBsa',\n",
    "    'client_secret': 'esiLUJc2idUh5HaikEK7EAjMDwIa',\n",
    "    'refresh_token': refresh_token,\n",
    "    'grant_type': 'refresh_token',\n",
    "}\n",
    "\n",
    "resp = requests.post(url, data=data, verify=False)\n",
    "\n",
    "resp.content\n",
    "\n",
    "# example = {\n",
    "#     \"token_type\":\"bearer\",\n",
    "#     \"expires_in\":3597,\n",
    "#     \"access_token\":\"ST-11-EiHKg0IqWvvC1MN0O50A-accounts.osf.io\"\n",
    "# }"
   ]
  },
  {
   "cell_type": "code",
   "execution_count": null,
   "metadata": {
    "collapsed": true
   },
   "outputs": [],
   "source": []
  },
  {
   "cell_type": "code",
   "execution_count": null,
   "metadata": {
    "collapsed": true
   },
   "outputs": [],
   "source": []
  },
  {
   "cell_type": "code",
   "execution_count": 16,
   "metadata": {
    "collapsed": false
   },
   "outputs": [
    {
     "name": "stderr",
     "output_type": "stream",
     "text": [
      "/Users/michael/.virtualenvs/ipython/lib/python3.4/site-packages/requests/packages/urllib3/connectionpool.py:769: InsecureRequestWarning: Unverified HTTPS request is being made. Adding certificate verification is strongly advised. See: https://urllib3.readthedocs.org/en/latest/security.html\n",
      "  InsecureRequestWarning)\n"
     ]
    },
    {
     "data": {
      "text/plain": [
       "404"
      ]
     },
     "execution_count": 16,
     "metadata": {},
     "output_type": "execute_result"
    }
   ],
   "source": [
    "token = 'eyJhbGciOiJIUzUxMiJ9.ZXlKaGJHY2lPaUprYVhJaUxDSmxibU1pT2lKQk1USTRRMEpETFVoVE1qVTJJbjAuLkltREJ0czYydHdLd25FNEMxSWNHdGcuVnNISHpEZXpQNVRXWFdDenFBNkZ2ak9WT1duLWdSaXJBcV9NZUNYMnNNeGdLTE1NNno2Z3BLMVFwUXNnRmktVy5QUzE3cmhUNURwcllGOFczOUZwN09R.psMMb7Plkr1yviHpyEAaPIFBEEj5cwpPHBCwnvzkfOm6qy91Rj3mYFqz9uhYw0WvTwc3nJPOXtlElVD9mZlMzw'\n",
    "\n",
    "url = 'https://localhost:8443/cas/oauth2/revoke'\n",
    "\n",
    "params = {\n",
    "    'token': token,\n",
    "}\n",
    "\n",
    "resp = requests.get(url, params=params, verify=False)\n",
    "\n",
    "resp.status_code\n",
    "\n",
    "# 200 = success\n",
    "# 500 = bad request"
   ]
  },
  {
   "cell_type": "code",
   "execution_count": null,
   "metadata": {
    "collapsed": false
   },
   "outputs": [],
   "source": []
  },
  {
   "cell_type": "code",
   "execution_count": null,
   "metadata": {
    "collapsed": true
   },
   "outputs": [],
   "source": []
  },
  {
   "cell_type": "code",
   "execution_count": 14,
   "metadata": {
    "collapsed": false
   },
   "outputs": [
    {
     "name": "stderr",
     "output_type": "stream",
     "text": [
      "/Users/michael/.virtualenvs/ipython/lib/python3.4/site-packages/requests/packages/urllib3/connectionpool.py:769: InsecureRequestWarning: Unverified HTTPS request is being made. Adding certificate verification is strongly advised. See: https://urllib3.readthedocs.org/en/latest/security.html\n",
      "  InsecureRequestWarning)\n"
     ]
    },
    {
     "data": {
      "text/plain": [
       "b'{\"id\":\"michael.haselton@gmail.com\",\"attributes\":[{\"familyName\":\"Haselton\"},{\"givenName\":\"Michael\"}]}'"
      ]
     },
     "execution_count": 14,
     "metadata": {},
     "output_type": "execute_result"
    }
   ],
   "source": [
    "access_token = 'eyJhbGciOiJIUzUxMiJ9.ZXlKaGJHY2lPaUprYVhJaUxDSmxibU1pT2lKQk1USTRRMEpETFVoVE1qVTJJbjAuLlZZTktvWVY5RlE5VHdzNTJGUWpSZEEuVmktUWZVUkswdkd4WkxmdHVfNkp1N2FxekRfU3oxRTBCa2pKVllmN1NtLWdLNlNNMVo0R0ZvMkxKNW4xLTJsdy4tZXpsNWN4c3YwX2VYSkV1S21ETm93.UafDQyWUmMgz6kMmYFdOsydt0GxRzRcx75RWy0t4BppvfzEASjcM7P1uUBf7GBwzumE3V7TDJqdpN4YGiZLfpA'\n",
    "\n",
    "url = 'https://localhost:8443/cas/oauth2/profile'\n",
    "\n",
    "params = {\n",
    "    'access_token': access_token,\n",
    "}\n",
    "\n",
    "resp = requests.get(url, params=params, verify=False)\n",
    "\n",
    "resp.content\n",
    "\n",
    "# example = {\n",
    "#     \"id\":\"michael.haselton@gmail.com\",\n",
    "#     \"attributes\":[\n",
    "#         {\"familyName\":\"Haselton\"},\n",
    "#         {\"givenName\":\"Michael\"}\n",
    "#     ]\n",
    "# }"
   ]
  },
  {
   "cell_type": "code",
   "execution_count": null,
   "metadata": {
    "collapsed": true
   },
   "outputs": [],
   "source": []
  },
  {
   "cell_type": "code",
   "execution_count": null,
   "metadata": {
    "collapsed": false
   },
   "outputs": [],
   "source": []
  }
 ],
 "metadata": {
  "kernelspec": {
   "display_name": "Python 3",
   "language": "python",
   "name": "python3"
  },
  "language_info": {
   "codemirror_mode": {
    "name": "ipython",
    "version": 3
   },
   "file_extension": ".py",
   "mimetype": "text/x-python",
   "name": "python",
   "nbconvert_exporter": "python",
   "pygments_lexer": "ipython3",
   "version": "3.4.2"
  }
 },
 "nbformat": 4,
 "nbformat_minor": 0
}
