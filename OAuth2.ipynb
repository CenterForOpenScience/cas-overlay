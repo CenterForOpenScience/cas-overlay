{
 "cells": [
  {
   "cell_type": "code",
   "execution_count": 26,
   "metadata": {
    "collapsed": true
   },
   "outputs": [],
   "source": [
    "import requests"
   ]
  },
  {
   "cell_type": "code",
   "execution_count": 114,
   "metadata": {
    "collapsed": false,
    "scrolled": false
   },
   "outputs": [
    {
     "name": "stdout",
     "output_type": "stream",
     "text": [
      "[200] b'{\"token_type\":\"Bearer\",\"expires_in\":3600,\"refresh_token\":\"RT-2-LzDUmjYaSXKIbBtId3megopvJ1EOrnSwXbybunHbiK4Aq6NHNQ\",\"access_token\":\"AT-6-qnyeFajbwjjqRfjiAjpqJl0fvFUc4Bl5d0awR4fzqiIB0JDeejOd96A2DDfKyKcfa4MY1B\"}'\n"
     ]
    },
    {
     "name": "stderr",
     "output_type": "stream",
     "text": [
      "/Users/michael/.virtualenvs/ipython/lib/python3.4/site-packages/requests/packages/urllib3/connectionpool.py:769: InsecureRequestWarning: Unverified HTTPS request is being made. Adding certificate verification is strongly advised. See: https://urllib3.readthedocs.org/en/latest/security.html\n",
      "  InsecureRequestWarning)\n"
     ]
    }
   ],
   "source": [
    "##### Authorization Code #####\n",
    "\n",
    "code = 'AC-4-JOw7Tragxcm1Dlggeh0T3fQsdosFdYsIFVnNb0fI54VxtuwUqI'\n",
    "\n",
    "url = 'https://localhost:8443/oauth2/token'\n",
    "\n",
    "data = {\n",
    "    'code': code,\n",
    "    'client_id': 'gJgfkHAtz_FSyUOBgWiki_hyaBsa',\n",
    "    'client_secret': 'esiLUJc2idUh5HaikEK7EAjMDwIa',\n",
    "    'redirect_uri': 'http://localhost:5000/oauth/callback/googledrive/',\n",
    "    'grant_type': 'authorization_code',\n",
    "}\n",
    "\n",
    "resp = requests.post(url, data=data, verify=False)\n",
    "print('[{}] {}'.format(resp.status_code, resp.content))\n",
    "\n",
    "# {\n",
    "#     \"token_type\":\"Bearer\",\n",
    "#     \"expires_in\":3600,\n",
    "#     \"refresh_token\":\"RT-1-TWFngAfiHbS6OCC3STiO2eugtcMFVS64IJZfGgNltbzu0yOKLe\",\n",
    "#     \"access_token\":\"AT-1-gmEZ30hDhj5a6ZcAiPT4CSMG0ezke5YfmuKNKHknIecfhwOKHbUl59AnkxkksaSv7YPxzQ\"\n",
    "# }\n",
    "#\n",
    "# * access_type = offline"
   ]
  },
  {
   "cell_type": "code",
   "execution_count": 119,
   "metadata": {
    "collapsed": false
   },
   "outputs": [
    {
     "name": "stdout",
     "output_type": "stream",
     "text": [
      "[200] b'{\"token_type\":\"Bearer\",\"expires_in\":3600,\"access_token\":\"AT-11-9CCh3wkCgYcgte7RhL7OGrxlEcwTBICfZc7UmuqRlPIbxJwYwftkYIZgPiKBNAPbmqVNWK\"}'\n"
     ]
    },
    {
     "name": "stderr",
     "output_type": "stream",
     "text": [
      "/Users/michael/.virtualenvs/ipython/lib/python3.4/site-packages/requests/packages/urllib3/connectionpool.py:769: InsecureRequestWarning: Unverified HTTPS request is being made. Adding certificate verification is strongly advised. See: https://urllib3.readthedocs.org/en/latest/security.html\n",
      "  InsecureRequestWarning)\n"
     ]
    }
   ],
   "source": [
    "##### Grant Access Token #####\n",
    "\n",
    "refresh_token = 'RT-2-LzDUmjYaSXKIbBtId3megopvJ1EOrnSwXbybunHbiK4Aq6NHNQ'\n",
    "\n",
    "url = 'https://localhost:8443/oauth2/token'\n",
    "\n",
    "data = {\n",
    "    'client_id': 'gJgfkHAtz_FSyUOBgWiki_hyaBsa',\n",
    "    'client_secret': 'esiLUJc2idUh5HaikEK7EAjMDwIa',\n",
    "    'refresh_token': refresh_token,\n",
    "    'grant_type': 'refresh_token',\n",
    "}\n",
    "\n",
    "resp = requests.post(url, data=data, verify=False)\n",
    "print('[{}] {}'.format(resp.status_code, resp.content))\n",
    "\n",
    "# {\n",
    "#     \"token_type\":\"Bearer\",\n",
    "#     \"expires_in\":3600,\n",
    "#     \"access_token\":\"AT-1-gmEZ30hDhj5a6ZcAiPT4CSMG0ezke5YfmuKNKHknIecfhwOKHbUl59AnkxkksaSv7YPxzQ\"\n",
    "# }"
   ]
  },
  {
   "cell_type": "code",
   "execution_count": 134,
   "metadata": {
    "collapsed": false
   },
   "outputs": [
    {
     "name": "stdout",
     "output_type": "stream",
     "text": [
      "[200] b'{\"id\":\"t9pgj\",\"scope\":[\"user.profile\"]}'\n"
     ]
    },
    {
     "name": "stderr",
     "output_type": "stream",
     "text": [
      "/Users/michael/.virtualenvs/ipython/lib/python3.4/site-packages/requests/packages/urllib3/connectionpool.py:769: InsecureRequestWarning: Unverified HTTPS request is being made. Adding certificate verification is strongly advised. See: https://urllib3.readthedocs.org/en/latest/security.html\n",
      "  InsecureRequestWarning)\n"
     ]
    }
   ],
   "source": [
    "##### Profile & Scope Information #####\n",
    "\n",
    "access_token = 'AT-4-r0Mcv2v9MoXbGwzPQoKDbicWa5HffpFK9bmGaGVGRmzwCrzuWHIPm4lQ77Mm396SjzaVpB'\n",
    "# access_token = 'personal-access-token-id'\n",
    "\n",
    "url = 'https://localhost:8443/oauth2/profile'\n",
    "\n",
    "headers = {\n",
    "    'Authorization': 'Bearer {}'.format(access_token),\n",
    "}\n",
    "\n",
    "resp = requests.get(url, headers=headers, verify=False)\n",
    "print('[{}] {}'.format(resp.status_code, resp.content))\n",
    "\n",
    "# {\n",
    "#     \"id\":\"abc123\",\n",
    "#     \"scope\": [\n",
    "#         \"user.email\",\n",
    "#         \"profile.basic\"\n",
    "#     ]\n",
    "#     \"attributes\": [\n",
    "#         {\"email\": \"test.user@domain.com\"},\n",
    "#         {\"familyName\":\"User\"},\n",
    "#         {\"givenName\":\"Test\"}\n",
    "#     ]\n",
    "# }\n",
    "#\n",
    "# * attributes must be released by the service"
   ]
  },
  {
   "cell_type": "code",
   "execution_count": 132,
   "metadata": {
    "collapsed": false
   },
   "outputs": [
    {
     "name": "stdout",
     "output_type": "stream",
     "text": [
      "[401] b'error=unauthorized'\n"
     ]
    },
    {
     "name": "stderr",
     "output_type": "stream",
     "text": [
      "/Users/michael/.virtualenvs/ipython/lib/python3.4/site-packages/requests/packages/urllib3/connectionpool.py:769: InsecureRequestWarning: Unverified HTTPS request is being made. Adding certificate verification is strongly advised. See: https://urllib3.readthedocs.org/en/latest/security.html\n",
      "  InsecureRequestWarning)\n"
     ]
    }
   ],
   "source": [
    "##### User Application Authorizations Metadata #####\n",
    "\n",
    "access_token = 'AT-14-5LE9XUKbRNPXkEYjeZCHXc7BR2Nttz5HnjSOGu7fBiPRgGjrdDeXfYMe3QBcvPHOCA3NE1'\n",
    "\n",
    "url = 'https://localhost:8443/oauth2/metadata'\n",
    "\n",
    "headers = {\n",
    "    'Authorization': 'Bearer {}'.format(access_token),\n",
    "}\n",
    "\n",
    "resp = requests.post(url, headers=headers, verify=False)\n",
    "print('[{}] {}'.format(resp.status_code, resp.content))\n",
    "\n",
    "# {\n",
    "#     \"data\": [\n",
    "#         {\n",
    "#             \"client_id\":\"abc123\",\n",
    "#             \"name\": \"OAuth Application Name\",\n",
    "#             \"description\": \"OAuth Application Description\",\n",
    "#             \"scope\": [\n",
    "#                 \"user.email\",\n",
    "#                 \"profile.basic\"\n",
    "#             ]\n",
    "#         },\n",
    "#         {\n",
    "#             \"client_id\":\"defxyz\",\n",
    "#             \"name\": \"Another Application Name\",\n",
    "#             \"description\": \"Another Application Description\",\n",
    "#             \"scope\": [\n",
    "#                 \"user.email\",\n",
    "#                 \"profile.basic\"\n",
    "#             ]\n",
    "#         },\n",
    "#     ]\n",
    "# }"
   ]
  },
  {
   "cell_type": "code",
   "execution_count": 128,
   "metadata": {
    "collapsed": false
   },
   "outputs": [
    {
     "name": "stdout",
     "output_type": "stream",
     "text": [
      "[200] b'{\"users\":1,\"description\":\"OAuth Client Service URL\",\"name\":\"Open Science Framework (Testing)\",\"client_id\":\"gJgfkHAtz_FSyUOBgWiki_hyaBsa\"}'\n"
     ]
    },
    {
     "name": "stderr",
     "output_type": "stream",
     "text": [
      "/Users/michael/.virtualenvs/ipython/lib/python3.4/site-packages/requests/packages/urllib3/connectionpool.py:769: InsecureRequestWarning: Unverified HTTPS request is being made. Adding certificate verification is strongly advised. See: https://urllib3.readthedocs.org/en/latest/security.html\n",
      "  InsecureRequestWarning)\n"
     ]
    }
   ],
   "source": [
    "##### Application Owner Metadata #####\n",
    "\n",
    "url = 'https://localhost:8443/oauth2/metadata'\n",
    "\n",
    "params = {\n",
    "    'client_id': 'gJgfkHAtz_FSyUOBgWiki_hyaBsa',\n",
    "    'client_secret': 'esiLUJc2idUh5HaikEK7EAjMDwIa',\n",
    "}\n",
    "\n",
    "resp = requests.post(url, params=params, verify=False)\n",
    "print('[{}] {}'.format(resp.status_code, resp.content))\n",
    "\n",
    "# {\n",
    "#     \"client_id\":\"abc123\",\n",
    "#     \"name\": \"OAuth Application Name\",\n",
    "#     \"description\": \"OAuth Application Description\",\n",
    "#     \"users\": 10\n",
    "# }"
   ]
  },
  {
   "cell_type": "code",
   "execution_count": 131,
   "metadata": {
    "collapsed": false
   },
   "outputs": [
    {
     "name": "stdout",
     "output_type": "stream",
     "text": [
      "[204] b''\n"
     ]
    },
    {
     "name": "stderr",
     "output_type": "stream",
     "text": [
      "/Users/michael/.virtualenvs/ipython/lib/python3.4/site-packages/requests/packages/urllib3/connectionpool.py:769: InsecureRequestWarning: Unverified HTTPS request is being made. Adding certificate verification is strongly advised. See: https://urllib3.readthedocs.org/en/latest/security.html\n",
      "  InsecureRequestWarning)\n"
     ]
    }
   ],
   "source": [
    "##### Revoke Token #####\n",
    "\n",
    "token = 'AT-14-5LE9XUKbRNPXkEYjeZCHXc7BR2Nttz5HnjSOGu7fBiPRgGjrdDeXfYMe3QBcvPHOCA3NE1'\n",
    "# token = 'RT-1-jHUxqfYcfoWkQzJ1R5iHO6PFz5m5hswBEnizoigOcmnflbXDSm'\n",
    "\n",
    "url = 'https://localhost:8443/oauth2/revoke'\n",
    "\n",
    "params = {\n",
    "    'token': token,\n",
    "}\n",
    "\n",
    "resp = requests.post(url, params=params, verify=False)\n",
    "print('[{}] {}'.format(resp.status_code, resp.content))\n",
    "\n",
    "# 204 = success"
   ]
  },
  {
   "cell_type": "code",
   "execution_count": 133,
   "metadata": {
    "collapsed": false
   },
   "outputs": [
    {
     "name": "stdout",
     "output_type": "stream",
     "text": [
      "[401] b'error=unauthorized'\n"
     ]
    },
    {
     "name": "stderr",
     "output_type": "stream",
     "text": [
      "/Users/michael/.virtualenvs/ipython/lib/python3.4/site-packages/requests/packages/urllib3/connectionpool.py:769: InsecureRequestWarning: Unverified HTTPS request is being made. Adding certificate verification is strongly advised. See: https://urllib3.readthedocs.org/en/latest/security.html\n",
      "  InsecureRequestWarning)\n"
     ]
    }
   ],
   "source": [
    "##### User Revokes Application Access #####\n",
    "\n",
    "access_token = 'AT-14-5LE9XUKbRNPXkEYjeZCHXc7BR2Nttz5HnjSOGu7fBiPRgGjrdDeXfYMe3QBcvPHOCA3NE1'\n",
    "\n",
    "url = 'https://localhost:8443/oauth2/revoke'\n",
    "\n",
    "headers = {\n",
    "    'Authorization': 'Bearer {}'.format(access_token),\n",
    "}\n",
    "\n",
    "params = {\n",
    "    'client_id': 'gJgfkHAtz_FSyUOBgWiki_hyaBsa',\n",
    "}\n",
    "\n",
    "resp = requests.post(url, headers=headers, params=params, verify=False)\n",
    "print('[{}] {}'.format(resp.status_code, resp.content))\n",
    "\n",
    "# 204 = success"
   ]
  },
  {
   "cell_type": "code",
   "execution_count": 18,
   "metadata": {
    "collapsed": false
   },
   "outputs": [
    {
     "name": "stdout",
     "output_type": "stream",
     "text": [
      "[204] b''\n"
     ]
    },
    {
     "name": "stderr",
     "output_type": "stream",
     "text": [
      "/Users/michael/.virtualenvs/ipython/lib/python3.4/site-packages/requests/packages/urllib3/connectionpool.py:769: InsecureRequestWarning: Unverified HTTPS request is being made. Adding certificate verification is strongly advised. See: https://urllib3.readthedocs.org/en/latest/security.html\n",
      "  InsecureRequestWarning)\n"
     ]
    }
   ],
   "source": [
    "##### Application Administrators Revokes All Tokens #####\n",
    "\n",
    "url = 'https://localhost:8443/oauth2/revoke'\n",
    "\n",
    "params = {\n",
    "    'client_id': 'gJgfkHAtz_FSyUOBgWiki_hyaBsa',\n",
    "    'client_secret': 'esiLUJc2idUh5HaikEK7EAjMDwIa',\n",
    "}\n",
    "\n",
    "resp = requests.post(url, params=params, verify=False)\n",
    "print('[{}] {}'.format(resp.status_code, resp.content))\n",
    "\n",
    "# no content"
   ]
  },
  {
   "cell_type": "code",
   "execution_count": null,
   "metadata": {
    "collapsed": true
   },
   "outputs": [],
   "source": []
  }
 ],
 "metadata": {
  "kernelspec": {
   "display_name": "Python 3",
   "language": "python",
   "name": "python3"
  },
  "language_info": {
   "codemirror_mode": {
    "name": "ipython",
    "version": 3
   },
   "file_extension": ".py",
   "mimetype": "text/x-python",
   "name": "python",
   "nbconvert_exporter": "python",
   "pygments_lexer": "ipython3",
   "version": "3.4.2"
  }
 },
 "nbformat": 4,
 "nbformat_minor": 0
}
