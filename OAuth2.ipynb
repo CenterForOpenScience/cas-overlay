{
 "cells": [
  {
   "cell_type": "code",
   "execution_count": 2,
   "metadata": {
    "collapsed": true
   },
   "outputs": [],
   "source": [
    "import requests"
   ]
  },
  {
   "cell_type": "code",
   "execution_count": 33,
   "metadata": {
    "collapsed": false
   },
   "outputs": [
    {
     "name": "stderr",
     "output_type": "stream",
     "text": [
      "/Users/michael/.virtualenvs/ipython/lib/python3.4/site-packages/requests/packages/urllib3/connectionpool.py:769: InsecureRequestWarning: Unverified HTTPS request is being made. Adding certificate verification is strongly advised. See: https://urllib3.readthedocs.org/en/latest/security.html\n",
      "  InsecureRequestWarning)\n"
     ]
    },
    {
     "data": {
      "text/plain": [
       "b'{\"token_type\":\"bearer\",\"expires_in\":3600,\"refresh_token\":\"eyJhbGciOiJIUzUxMiJ9.ZXlKaGJHY2lPaUprYVhJaUxDSmxibU1pT2lKQk1USTRRMEpETFVoVE1qVTJJbjAuLkU0WHBOcG9HZE85YnVaM1NtOVM4aEEuRjdFZHZQUXdaWEp6YjdyblB2akhDZHhReXlvZFpNYWw0WGdaTUFfV2FreWlhRk0yX3h2U21QNV9KcHdwSkxiY1ZkNnpROW5JMGFCQk45YTU3Wk9hUnV6X1QzZEJaZWhkT2ZSLWRteWt5UGMuNkhpM09oQ2ZuUzFOV2tXTGhIaTFCUQ.jKi0DvT3zVfHqbVYMApsOW2Y6gT9Nzq9akhtXsFA3nyo5RWAU1DF4q0Z-lmgSxOyVsdTWYihcUK8aAVDWSwZjA\",\"access_token\":\"eyJhbGciOiJIUzUxMiJ9.ZXlKaGJHY2lPaUprYVhJaUxDSmxibU1pT2lKQk1USTRRMEpETFVoVE1qVTJJbjAuLmg2UWxHUm5QZjJpR0VmTnhjUGRqSWcuZFlqdTVWQlR4QTA4a2xlWWJ3bUtSaElEMEN3TVNWbzBOQXVnd1ZLNEIzWmllNkhIbmFfRDRlN25mNVFuNGZERi5RYzVCbXA5YjdTV2xOOTlyZUZFMktn.gxs9l3DiVdjTsHGrO580FhI1uOWLS4wXizr7i175FRf1GW74bNiBIndf0O8o9Z_pGZEarBROCsbzSYCAoMoLaA\"}'"
      ]
     },
     "execution_count": 33,
     "metadata": {},
     "output_type": "execute_result"
    }
   ],
   "source": [
    "code = 'eyJhbGciOiJIUzUxMiJ9.ZXlKaGJHY2lPaUprYVhJaUxDSmxibU1pT2lKQk1USTRRMEpETFVoVE1qVTJJbjAuLjlJTDlkRUtzdWtnUE9NNk9SUE5WYlEuV040QjBxZi1xakxHbUJqRTRaRkx1VXBUWFVUZEpRM01ncHlvM3NfN1JXWlp4c09QcnhrNHg5TWc1UTBYTW8zby5xU2owYVVicTlhcnBBZjBjUHNBbmR3.nkfA0LS_vpMUzMYKm24x0uOdKjlBTg6hNDc_-iklBOR_ki4KlNuH3ZbpMv8sKbSDaXtmnPTpBwsIDMIY7-8K4A'\n",
    "\n",
    "url = 'https://localhost:8443/cas/oauth2/token'\n",
    "\n",
    "data = {\n",
    "    'code': code,\n",
    "    'client_id': 'gJgfkHAtz_FSyUOBgWiki_hyaBsa',\n",
    "    'client_secret': 'esiLUJc2idUh5HaikEK7EAjMDwIa',\n",
    "    'redirect_uri': 'http://localhost:5000/oauth/callback/googledrive/',\n",
    "    'grant_type': 'authorization_code',\n",
    "}\n",
    "\n",
    "resp = requests.post(url, data=data, verify=False)\n",
    "\n",
    "resp.content\n",
    "\n",
    "# example = {\n",
    "#     \"token_type\":\"bearer\",\n",
    "#     \"expires_in\":3597,\n",
    "#     \"refresh_token\":\"TGT-1-a3ZMZfRtMqOWSQA5kNNxvGAOkA1lGKoB0KNz0M3mola09BzU3W-accounts.osf.io\",\n",
    "#     \"access_token\":\"ST-11-EiHKg0IqWvvC1MN0O50A-accounts.osf.io\"\n",
    "# }"
   ]
  },
  {
   "cell_type": "code",
   "execution_count": null,
   "metadata": {
    "collapsed": false
   },
   "outputs": [],
   "source": []
  },
  {
   "cell_type": "raw",
   "metadata": {},
   "source": []
  },
  {
   "cell_type": "code",
   "execution_count": 26,
   "metadata": {
    "collapsed": false
   },
   "outputs": [
    {
     "name": "stderr",
     "output_type": "stream",
     "text": [
      "/Users/michael/.virtualenvs/ipython/lib/python3.4/site-packages/requests/packages/urllib3/connectionpool.py:769: InsecureRequestWarning: Unverified HTTPS request is being made. Adding certificate verification is strongly advised. See: https://urllib3.readthedocs.org/en/latest/security.html\n",
      "  InsecureRequestWarning)\n"
     ]
    },
    {
     "data": {
      "text/plain": [
       "b'{\"token_type\":\"bearer\",\"expires_in\":3600,\"access_token\":\"eyJhbGciOiJIUzUxMiJ9.ZXlKaGJHY2lPaUprYVhJaUxDSmxibU1pT2lKQk1USTRRMEpETFVoVE1qVTJJbjAuLk1IN3djdGxuTXJ2NzdUMUxacFZOR2cuUF9GalNpc28tTk5RUmI2eGFzN0IyVldaQ0tWd3ZpR1hrRlpHakExM3JFazN3VGt5djQ3anhYNnVmR0NvdEVMYi5HYjd1bGd2QzYyY3JFdDRUZksxanBn.LQCkV7pBmnS480yVL08DrOyWmYBwahU4fDbRsTdv1dAArnBNoUHhXpcz5_aGVaz2d-n2HcsGA1rZJR-S-_AO7g\"}'"
      ]
     },
     "execution_count": 26,
     "metadata": {},
     "output_type": "execute_result"
    }
   ],
   "source": [
    "refresh_token = 'eyJhbGciOiJIUzUxMiJ9.ZXlKaGJHY2lPaUprYVhJaUxDSmxibU1pT2lKQk1USTRRMEpETFVoVE1qVTJJbjAuLkdUQVJqUDVkZ1M3a2xGNTRUdVAzT0EudFI1RlRtbWhnS1JWbzl6S294LUE5amFYWU5WMHNyX0JUQ1FHSjFXdXowVlROUHNpMkNRUTVXbU5qZ1R2VGE1bUJvLXM2aUs1X3oxbTdzLTM4Sk9LNmNpVWFNal9zUjNYWUFfTGdzckZkM28uQXVKanpNbUVIYW42S0UxcDF1Wm42QQ.7fMWQAFrrHREQ7l9hGd_dqCjoijt_Y0RxL5w3MmfCQetp26Y3hT94ziZK90wLIXLUcz_ckl6PRlPvZUkV_EDAg'\n",
    "\n",
    "url = 'https://localhost:8443/cas/oauth2/token'\n",
    "\n",
    "data = {\n",
    "    'client_id': 'gJgfkHAtz_FSyUOBgWiki_hyaBsa',\n",
    "    'client_secret': 'esiLUJc2idUh5HaikEK7EAjMDwIa',\n",
    "    'refresh_token': refresh_token,\n",
    "    'grant_type': 'refresh_token',\n",
    "}\n",
    "\n",
    "resp = requests.post(url, data=data, verify=False)\n",
    "\n",
    "resp.content\n",
    "\n",
    "# example = {\n",
    "#     \"token_type\":\"bearer\",\n",
    "#     \"expires_in\":3597,\n",
    "#     \"access_token\":\"ST-11-EiHKg0IqWvvC1MN0O50A-accounts.osf.io\"\n",
    "# }"
   ]
  },
  {
   "cell_type": "code",
   "execution_count": null,
   "metadata": {
    "collapsed": true
   },
   "outputs": [],
   "source": []
  },
  {
   "cell_type": "code",
   "execution_count": null,
   "metadata": {
    "collapsed": true
   },
   "outputs": [],
   "source": []
  },
  {
   "cell_type": "code",
   "execution_count": 27,
   "metadata": {
    "collapsed": false
   },
   "outputs": [
    {
     "name": "stderr",
     "output_type": "stream",
     "text": [
      "/Users/michael/.virtualenvs/ipython/lib/python3.4/site-packages/requests/packages/urllib3/connectionpool.py:769: InsecureRequestWarning: Unverified HTTPS request is being made. Adding certificate verification is strongly advised. See: https://urllib3.readthedocs.org/en/latest/security.html\n",
      "  InsecureRequestWarning)\n"
     ]
    },
    {
     "data": {
      "text/plain": [
       "200"
      ]
     },
     "execution_count": 27,
     "metadata": {},
     "output_type": "execute_result"
    }
   ],
   "source": [
    "token = 'eyJhbGciOiJIUzUxMiJ9.ZXlKaGJHY2lPaUprYVhJaUxDSmxibU1pT2lKQk1USTRRMEpETFVoVE1qVTJJbjAuLkdUQVJqUDVkZ1M3a2xGNTRUdVAzT0EudFI1RlRtbWhnS1JWbzl6S294LUE5amFYWU5WMHNyX0JUQ1FHSjFXdXowVlROUHNpMkNRUTVXbU5qZ1R2VGE1bUJvLXM2aUs1X3oxbTdzLTM4Sk9LNmNpVWFNal9zUjNYWUFfTGdzckZkM28uQXVKanpNbUVIYW42S0UxcDF1Wm42QQ.7fMWQAFrrHREQ7l9hGd_dqCjoijt_Y0RxL5w3MmfCQetp26Y3hT94ziZK90wLIXLUcz_ckl6PRlPvZUkV_EDAg'\n",
    "\n",
    "url = 'https://localhost:8443/cas/oauth2/revoke'\n",
    "\n",
    "params = {\n",
    "    'token': token,\n",
    "}\n",
    "\n",
    "resp = requests.get(url, params=params, verify=False)\n",
    "\n",
    "resp.status_code\n",
    "\n",
    "# 200 = success\n",
    "# 500 = bad request"
   ]
  },
  {
   "cell_type": "code",
   "execution_count": null,
   "metadata": {
    "collapsed": false
   },
   "outputs": [],
   "source": []
  },
  {
   "cell_type": "code",
   "execution_count": null,
   "metadata": {
    "collapsed": true
   },
   "outputs": [],
   "source": []
  },
  {
   "cell_type": "code",
   "execution_count": 34,
   "metadata": {
    "collapsed": false
   },
   "outputs": [
    {
     "name": "stderr",
     "output_type": "stream",
     "text": [
      "/Users/michael/.virtualenvs/ipython/lib/python3.4/site-packages/requests/packages/urllib3/connectionpool.py:769: InsecureRequestWarning: Unverified HTTPS request is being made. Adding certificate verification is strongly advised. See: https://urllib3.readthedocs.org/en/latest/security.html\n",
      "  InsecureRequestWarning)\n"
     ]
    },
    {
     "data": {
      "text/plain": [
       "b'{\"id\":\"kvq2m\",\"attributes\":[{\"familyName\":\"Haselton\"},{\"username\":\"michael.haselton@gmail.com\"},{\"givenName\":\"Michael\"}]}'"
      ]
     },
     "execution_count": 34,
     "metadata": {},
     "output_type": "execute_result"
    }
   ],
   "source": [
    "access_token = 'eyJhbGciOiJIUzUxMiJ9.ZXlKaGJHY2lPaUprYVhJaUxDSmxibU1pT2lKQk1USTRRMEpETFVoVE1qVTJJbjAuLmg2UWxHUm5QZjJpR0VmTnhjUGRqSWcuZFlqdTVWQlR4QTA4a2xlWWJ3bUtSaElEMEN3TVNWbzBOQXVnd1ZLNEIzWmllNkhIbmFfRDRlN25mNVFuNGZERi5RYzVCbXA5YjdTV2xOOTlyZUZFMktn.gxs9l3DiVdjTsHGrO580FhI1uOWLS4wXizr7i175FRf1GW74bNiBIndf0O8o9Z_pGZEarBROCsbzSYCAoMoLaA'\n",
    "\n",
    "url = 'https://localhost:8443/cas/oauth2/profile'\n",
    "\n",
    "params = {\n",
    "    'access_token': access_token,\n",
    "}\n",
    "\n",
    "resp = requests.get(url, params=params, verify=False)\n",
    "\n",
    "resp.content\n",
    "\n",
    "# example = {\n",
    "#     \"id\":\"abc123\",\n",
    "#     \"attributes\":[\n",
    "#         {\"username\": \"michael.haselton@gmail.com\"},\n",
    "#         {\"familyName\":\"Haselton\"},\n",
    "#         {\"givenName\":\"Michael\"}\n",
    "#     ]\n",
    "# }"
   ]
  },
  {
   "cell_type": "code",
   "execution_count": null,
   "metadata": {
    "collapsed": true
   },
   "outputs": [],
   "source": []
  },
  {
   "cell_type": "code",
   "execution_count": null,
   "metadata": {
    "collapsed": false
   },
   "outputs": [],
   "source": []
  }
 ],
 "metadata": {
  "kernelspec": {
   "display_name": "Python 3",
   "language": "python",
   "name": "python3"
  },
  "language_info": {
   "codemirror_mode": {
    "name": "ipython",
    "version": 3
   },
   "file_extension": ".py",
   "mimetype": "text/x-python",
   "name": "python",
   "nbconvert_exporter": "python",
   "pygments_lexer": "ipython3",
   "version": "3.4.2"
  }
 },
 "nbformat": 4,
 "nbformat_minor": 0
}
